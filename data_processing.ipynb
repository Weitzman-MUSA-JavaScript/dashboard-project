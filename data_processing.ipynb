{
 "cells": [
  {
   "cell_type": "code",
   "execution_count": 1,
   "metadata": {},
   "outputs": [],
   "source": [
    "import pandas as pd\n",
    "import numpy as np\n",
    "import geopandas as gpd"
   ]
  },
  {
   "cell_type": "code",
   "execution_count": 2,
   "metadata": {},
   "outputs": [],
   "source": [
    "data = gpd.read_file('assets/data/philly.geojson')"
   ]
  },
  {
   "cell_type": "code",
   "execution_count": 12,
   "metadata": {},
   "outputs": [],
   "source": [
    "data_2018 = data[['GEOID', 'device_counts_2018', 'stop_counts_2018', 'geometry']]\n",
    "data_2019 = data[['GEOID', 'device_counts_2019', 'stop_counts_2019', 'geometry']]\n",
    "data_2020 = data[['GEOID', 'device_counts_2020', 'stop_counts_2020', 'geometry']]\n",
    "data_2021 = data[['GEOID', 'device_counts_2021', 'stop_counts_2021', 'geometry']]\n",
    "data_2022 = data[['GEOID', 'device_counts_2022', 'stop_counts_2022', 'geometry']]\n",
    "data_2023 = data[['GEOID', 'device_counts_2023', 'stop_counts_2023', 'geometry']]\n",
    "data_2024 = data[['GEOID', 'device_counts_2024', 'stop_counts_2024', 'geometry']]"
   ]
  },
  {
   "cell_type": "code",
   "execution_count": 13,
   "metadata": {},
   "outputs": [
    {
     "name": "stderr",
     "output_type": "stream",
     "text": [
      "C:\\Users\\chenf\\AppData\\Local\\Temp\\ipykernel_19608\\746190190.py:1: SettingWithCopyWarning: \n",
      "A value is trying to be set on a copy of a slice from a DataFrame\n",
      "\n",
      "See the caveats in the documentation: https://pandas.pydata.org/pandas-docs/stable/user_guide/indexing.html#returning-a-view-versus-a-copy\n",
      "  data_2018.rename(columns={'device_counts_2018': 'device_counts', 'stop_counts_2018': 'stop_counts'}, inplace=True)\n",
      "C:\\Users\\chenf\\AppData\\Local\\Temp\\ipykernel_19608\\746190190.py:2: SettingWithCopyWarning: \n",
      "A value is trying to be set on a copy of a slice from a DataFrame\n",
      "\n",
      "See the caveats in the documentation: https://pandas.pydata.org/pandas-docs/stable/user_guide/indexing.html#returning-a-view-versus-a-copy\n",
      "  data_2019.rename(columns={'device_counts_2019': 'device_counts', 'stop_counts_2019': 'stop_counts'}, inplace=True)\n",
      "C:\\Users\\chenf\\AppData\\Local\\Temp\\ipykernel_19608\\746190190.py:3: SettingWithCopyWarning: \n",
      "A value is trying to be set on a copy of a slice from a DataFrame\n",
      "\n",
      "See the caveats in the documentation: https://pandas.pydata.org/pandas-docs/stable/user_guide/indexing.html#returning-a-view-versus-a-copy\n",
      "  data_2020.rename(columns={'device_counts_2020': 'device_counts', 'stop_counts_2020': 'stop_counts'}, inplace=True)\n",
      "C:\\Users\\chenf\\AppData\\Local\\Temp\\ipykernel_19608\\746190190.py:4: SettingWithCopyWarning: \n",
      "A value is trying to be set on a copy of a slice from a DataFrame\n",
      "\n",
      "See the caveats in the documentation: https://pandas.pydata.org/pandas-docs/stable/user_guide/indexing.html#returning-a-view-versus-a-copy\n",
      "  data_2021.rename(columns={'device_counts_2021': 'device_counts', 'stop_counts_2021': 'stop_counts'}, inplace=True)\n",
      "C:\\Users\\chenf\\AppData\\Local\\Temp\\ipykernel_19608\\746190190.py:5: SettingWithCopyWarning: \n",
      "A value is trying to be set on a copy of a slice from a DataFrame\n",
      "\n",
      "See the caveats in the documentation: https://pandas.pydata.org/pandas-docs/stable/user_guide/indexing.html#returning-a-view-versus-a-copy\n",
      "  data_2022.rename(columns={'device_counts_2022': 'device_counts', 'stop_counts_2022': 'stop_counts'}, inplace=True)\n",
      "C:\\Users\\chenf\\AppData\\Local\\Temp\\ipykernel_19608\\746190190.py:6: SettingWithCopyWarning: \n",
      "A value is trying to be set on a copy of a slice from a DataFrame\n",
      "\n",
      "See the caveats in the documentation: https://pandas.pydata.org/pandas-docs/stable/user_guide/indexing.html#returning-a-view-versus-a-copy\n",
      "  data_2023.rename(columns={'device_counts_2023': 'device_counts', 'stop_counts_2023': 'stop_counts'}, inplace=True)\n",
      "C:\\Users\\chenf\\AppData\\Local\\Temp\\ipykernel_19608\\746190190.py:7: SettingWithCopyWarning: \n",
      "A value is trying to be set on a copy of a slice from a DataFrame\n",
      "\n",
      "See the caveats in the documentation: https://pandas.pydata.org/pandas-docs/stable/user_guide/indexing.html#returning-a-view-versus-a-copy\n",
      "  data_2024.rename(columns={'device_counts_2024': 'device_counts', 'stop_counts_2024': 'stop_counts'}, inplace=True)\n"
     ]
    }
   ],
   "source": [
    "data_2018.rename(columns={'device_counts_2018': 'device_counts', 'stop_counts_2018': 'stop_counts'}, inplace=True)\n",
    "data_2019.rename(columns={'device_counts_2019': 'device_counts', 'stop_counts_2019': 'stop_counts'}, inplace=True)\n",
    "data_2020.rename(columns={'device_counts_2020': 'device_counts', 'stop_counts_2020': 'stop_counts'}, inplace=True)\n",
    "data_2021.rename(columns={'device_counts_2021': 'device_counts', 'stop_counts_2021': 'stop_counts'}, inplace=True)\n",
    "data_2022.rename(columns={'device_counts_2022': 'device_counts', 'stop_counts_2022': 'stop_counts'}, inplace=True)\n",
    "data_2023.rename(columns={'device_counts_2023': 'device_counts', 'stop_counts_2023': 'stop_counts'}, inplace=True)\n",
    "data_2024.rename(columns={'device_counts_2024': 'device_counts', 'stop_counts_2024': 'stop_counts'}, inplace=True)"
   ]
  },
  {
   "cell_type": "code",
   "execution_count": 14,
   "metadata": {},
   "outputs": [],
   "source": [
    "data_2018.to_file('assets/data/philly_2018.geojson', driver='GeoJSON')\n",
    "data_2019.to_file('assets/data/philly_2019.geojson', driver='GeoJSON')\n",
    "data_2020.to_file('assets/data/philly_2020.geojson', driver='GeoJSON')\n",
    "data_2021.to_file('assets/data/philly_2021.geojson', driver='GeoJSON')\n",
    "data_2022.to_file('assets/data/philly_2022.geojson', driver='GeoJSON')\n",
    "data_2023.to_file('assets/data/philly_2023.geojson', driver='GeoJSON')\n",
    "data_2024.to_file('assets/data/philly_2024.geojson', driver='GeoJSON')"
   ]
  }
 ],
 "metadata": {
  "kernelspec": {
   "display_name": "musa-550",
   "language": "python",
   "name": "python3"
  },
  "language_info": {
   "codemirror_mode": {
    "name": "ipython",
    "version": 3
   },
   "file_extension": ".py",
   "mimetype": "text/x-python",
   "name": "python",
   "nbconvert_exporter": "python",
   "pygments_lexer": "ipython3",
   "version": "3.10.12"
  }
 },
 "nbformat": 4,
 "nbformat_minor": 2
}
